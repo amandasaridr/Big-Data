{
  "nbformat": 4,
  "nbformat_minor": 0,
  "metadata": {
    "colab": {
      "provenance": []
    },
    "kernelspec": {
      "name": "python3",
      "display_name": "Python 3"
    },
    "language_info": {
      "name": "python"
    }
  },
  "cells": [
    {
      "cell_type": "code",
      "execution_count": 1,
      "metadata": {
        "colab": {
          "base_uri": "https://localhost:8080/"
        },
        "id": "8gWYstgVIHX9",
        "outputId": "98b018b0-665f-4b36-fb5c-63838b8fa3f5"
      },
      "outputs": [
        {
          "output_type": "stream",
          "name": "stdout",
          "text": [
            "Collecting pyspark\n",
            "  Downloading pyspark-3.5.1.tar.gz (317.0 MB)\n",
            "\u001b[2K     \u001b[90m━━━━━━━━━━━━━━━━━━━━━━━━━━━━━━━━━━━━━━━━\u001b[0m \u001b[32m317.0/317.0 MB\u001b[0m \u001b[31m2.9 MB/s\u001b[0m eta \u001b[36m0:00:00\u001b[0m\n",
            "\u001b[?25h  Preparing metadata (setup.py) ... \u001b[?25l\u001b[?25hdone\n",
            "Requirement already satisfied: py4j==0.10.9.7 in /usr/local/lib/python3.10/dist-packages (from pyspark) (0.10.9.7)\n",
            "Building wheels for collected packages: pyspark\n",
            "  Building wheel for pyspark (setup.py) ... \u001b[?25l\u001b[?25hdone\n",
            "  Created wheel for pyspark: filename=pyspark-3.5.1-py2.py3-none-any.whl size=317488491 sha256=98b89ed721d388ba801e778f1134320da8a4bc50ecd39503f2ab8868a451387a\n",
            "  Stored in directory: /root/.cache/pip/wheels/80/1d/60/2c256ed38dddce2fdd93be545214a63e02fbd8d74fb0b7f3a6\n",
            "Successfully built pyspark\n",
            "Installing collected packages: pyspark\n",
            "Successfully installed pyspark-3.5.1\n",
            "Collecting install-jdk\n",
            "  Downloading install_jdk-1.1.0-py3-none-any.whl (15 kB)\n",
            "Installing collected packages: install-jdk\n",
            "Successfully installed install-jdk-1.1.0\n"
          ]
        }
      ],
      "source": [
        "!pip install pyspark\n",
        "!pip install install-jdk"
      ]
    },
    {
      "cell_type": "code",
      "source": [
        "#mengimport library untuk dataset ini\n",
        "from pyspark.sql import SparkSession\n",
        "from pyspark.sql.types import *\n",
        "from pyspark.sql.functions import *\n",
        "from pyspark.ml.feature import HashingTF, Tokenizer, StopWordsRemover, IDF\n",
        "from pyspark.ml import Pipeline\n",
        "from pyspark.ml.recommendation import ALS\n",
        "from pyspark.ml.evaluation import RegressionEvaluator"
      ],
      "metadata": {
        "id": "Yt0u2GzpIMBq"
      },
      "execution_count": 2,
      "outputs": []
    },
    {
      "cell_type": "code",
      "source": [
        "appName = \"Penilaian otomatis menggunakan metode PySpark\"\n",
        "spark = SparkSession \\\n",
        "    .builder \\\n",
        "    .appName(appName) \\\n",
        "    .config(\"spark.some.config.option\", \"some-value\") \\\n",
        "    .getOrCreate()"
      ],
      "metadata": {
        "id": "WH3q-PQPImmZ"
      },
      "execution_count": 3,
      "outputs": []
    },
    {
      "cell_type": "code",
      "source": [
        "#memuat dan membaca dataset\n",
        "import pandas as pd\n",
        "nilai_otomatis = pd.read_excel(\"/content/training_data_essay.xlsx\")\n",
        "nilai_otomatis"
      ],
      "metadata": {
        "colab": {
          "base_uri": "https://localhost:8080/",
          "height": 423
        },
        "id": "XBfq0HzIIplD",
        "outputId": "34b23f7c-2170-4ded-be54-8f2fdbf210af"
      },
      "execution_count": 4,
      "outputs": [
        {
          "output_type": "execute_result",
          "data": {
            "text/plain": [
              "            npm nama_peserta  \\\n",
              "0             0        Admin   \n",
              "1             0        Admin   \n",
              "2             0        Admin   \n",
              "3             0        Admin   \n",
              "4             0        Admin   \n",
              "..          ...          ...   \n",
              "115  1121020035           BS   \n",
              "116  1121020035           BS   \n",
              "117  1121020035           BS   \n",
              "118  1121020035           BS   \n",
              "119  1121020035           BS   \n",
              "\n",
              "                                               jawaban  soal  skor_per_soal  \n",
              "0    Tidak, Hanya membutuhkan satu karena satu soft...     1         100.00  \n",
              "1    Biaya dihitung berdasarkan waktu pengerjaan da...     2         100.00  \n",
              "2    Hak cipta adalah hak eksklusif bagi pencipta a...     3         100.00  \n",
              "3    Dijelaskan kepada klien jika huruf terlalu bes...     4         100.00  \n",
              "4    1. Melindungi dan menjamin pekerja atas hak ke...     5         100.00  \n",
              "..                                                 ...   ...            ...  \n",
              "115  posisi kepala dan leher harus tegak lurus deng...     8          48.41  \n",
              "116  kecocokan software camera dengan system hardwa...     9          65.89  \n",
              "117  okus dan exposure dipertimbangkan dalam operas...    10          48.51  \n",
              "118  peralatan yang dibutuhkan untuk transfer image...    11          78.41  \n",
              "119  dibuat grafik yang menggunakan prinsip desain ...    12          64.29  \n",
              "\n",
              "[120 rows x 5 columns]"
            ],
            "text/html": [
              "\n",
              "  <div id=\"df-a7cda37e-c7aa-4950-8118-21317ce4f5c4\" class=\"colab-df-container\">\n",
              "    <div>\n",
              "<style scoped>\n",
              "    .dataframe tbody tr th:only-of-type {\n",
              "        vertical-align: middle;\n",
              "    }\n",
              "\n",
              "    .dataframe tbody tr th {\n",
              "        vertical-align: top;\n",
              "    }\n",
              "\n",
              "    .dataframe thead th {\n",
              "        text-align: right;\n",
              "    }\n",
              "</style>\n",
              "<table border=\"1\" class=\"dataframe\">\n",
              "  <thead>\n",
              "    <tr style=\"text-align: right;\">\n",
              "      <th></th>\n",
              "      <th>npm</th>\n",
              "      <th>nama_peserta</th>\n",
              "      <th>jawaban</th>\n",
              "      <th>soal</th>\n",
              "      <th>skor_per_soal</th>\n",
              "    </tr>\n",
              "  </thead>\n",
              "  <tbody>\n",
              "    <tr>\n",
              "      <th>0</th>\n",
              "      <td>0</td>\n",
              "      <td>Admin</td>\n",
              "      <td>Tidak, Hanya membutuhkan satu karena satu soft...</td>\n",
              "      <td>1</td>\n",
              "      <td>100.00</td>\n",
              "    </tr>\n",
              "    <tr>\n",
              "      <th>1</th>\n",
              "      <td>0</td>\n",
              "      <td>Admin</td>\n",
              "      <td>Biaya dihitung berdasarkan waktu pengerjaan da...</td>\n",
              "      <td>2</td>\n",
              "      <td>100.00</td>\n",
              "    </tr>\n",
              "    <tr>\n",
              "      <th>2</th>\n",
              "      <td>0</td>\n",
              "      <td>Admin</td>\n",
              "      <td>Hak cipta adalah hak eksklusif bagi pencipta a...</td>\n",
              "      <td>3</td>\n",
              "      <td>100.00</td>\n",
              "    </tr>\n",
              "    <tr>\n",
              "      <th>3</th>\n",
              "      <td>0</td>\n",
              "      <td>Admin</td>\n",
              "      <td>Dijelaskan kepada klien jika huruf terlalu bes...</td>\n",
              "      <td>4</td>\n",
              "      <td>100.00</td>\n",
              "    </tr>\n",
              "    <tr>\n",
              "      <th>4</th>\n",
              "      <td>0</td>\n",
              "      <td>Admin</td>\n",
              "      <td>1. Melindungi dan menjamin pekerja atas hak ke...</td>\n",
              "      <td>5</td>\n",
              "      <td>100.00</td>\n",
              "    </tr>\n",
              "    <tr>\n",
              "      <th>...</th>\n",
              "      <td>...</td>\n",
              "      <td>...</td>\n",
              "      <td>...</td>\n",
              "      <td>...</td>\n",
              "      <td>...</td>\n",
              "    </tr>\n",
              "    <tr>\n",
              "      <th>115</th>\n",
              "      <td>1121020035</td>\n",
              "      <td>BS</td>\n",
              "      <td>posisi kepala dan leher harus tegak lurus deng...</td>\n",
              "      <td>8</td>\n",
              "      <td>48.41</td>\n",
              "    </tr>\n",
              "    <tr>\n",
              "      <th>116</th>\n",
              "      <td>1121020035</td>\n",
              "      <td>BS</td>\n",
              "      <td>kecocokan software camera dengan system hardwa...</td>\n",
              "      <td>9</td>\n",
              "      <td>65.89</td>\n",
              "    </tr>\n",
              "    <tr>\n",
              "      <th>117</th>\n",
              "      <td>1121020035</td>\n",
              "      <td>BS</td>\n",
              "      <td>okus dan exposure dipertimbangkan dalam operas...</td>\n",
              "      <td>10</td>\n",
              "      <td>48.51</td>\n",
              "    </tr>\n",
              "    <tr>\n",
              "      <th>118</th>\n",
              "      <td>1121020035</td>\n",
              "      <td>BS</td>\n",
              "      <td>peralatan yang dibutuhkan untuk transfer image...</td>\n",
              "      <td>11</td>\n",
              "      <td>78.41</td>\n",
              "    </tr>\n",
              "    <tr>\n",
              "      <th>119</th>\n",
              "      <td>1121020035</td>\n",
              "      <td>BS</td>\n",
              "      <td>dibuat grafik yang menggunakan prinsip desain ...</td>\n",
              "      <td>12</td>\n",
              "      <td>64.29</td>\n",
              "    </tr>\n",
              "  </tbody>\n",
              "</table>\n",
              "<p>120 rows × 5 columns</p>\n",
              "</div>\n",
              "    <div class=\"colab-df-buttons\">\n",
              "\n",
              "  <div class=\"colab-df-container\">\n",
              "    <button class=\"colab-df-convert\" onclick=\"convertToInteractive('df-a7cda37e-c7aa-4950-8118-21317ce4f5c4')\"\n",
              "            title=\"Convert this dataframe to an interactive table.\"\n",
              "            style=\"display:none;\">\n",
              "\n",
              "  <svg xmlns=\"http://www.w3.org/2000/svg\" height=\"24px\" viewBox=\"0 -960 960 960\">\n",
              "    <path d=\"M120-120v-720h720v720H120Zm60-500h600v-160H180v160Zm220 220h160v-160H400v160Zm0 220h160v-160H400v160ZM180-400h160v-160H180v160Zm440 0h160v-160H620v160ZM180-180h160v-160H180v160Zm440 0h160v-160H620v160Z\"/>\n",
              "  </svg>\n",
              "    </button>\n",
              "\n",
              "  <style>\n",
              "    .colab-df-container {\n",
              "      display:flex;\n",
              "      gap: 12px;\n",
              "    }\n",
              "\n",
              "    .colab-df-convert {\n",
              "      background-color: #E8F0FE;\n",
              "      border: none;\n",
              "      border-radius: 50%;\n",
              "      cursor: pointer;\n",
              "      display: none;\n",
              "      fill: #1967D2;\n",
              "      height: 32px;\n",
              "      padding: 0 0 0 0;\n",
              "      width: 32px;\n",
              "    }\n",
              "\n",
              "    .colab-df-convert:hover {\n",
              "      background-color: #E2EBFA;\n",
              "      box-shadow: 0px 1px 2px rgba(60, 64, 67, 0.3), 0px 1px 3px 1px rgba(60, 64, 67, 0.15);\n",
              "      fill: #174EA6;\n",
              "    }\n",
              "\n",
              "    .colab-df-buttons div {\n",
              "      margin-bottom: 4px;\n",
              "    }\n",
              "\n",
              "    [theme=dark] .colab-df-convert {\n",
              "      background-color: #3B4455;\n",
              "      fill: #D2E3FC;\n",
              "    }\n",
              "\n",
              "    [theme=dark] .colab-df-convert:hover {\n",
              "      background-color: #434B5C;\n",
              "      box-shadow: 0px 1px 3px 1px rgba(0, 0, 0, 0.15);\n",
              "      filter: drop-shadow(0px 1px 2px rgba(0, 0, 0, 0.3));\n",
              "      fill: #FFFFFF;\n",
              "    }\n",
              "  </style>\n",
              "\n",
              "    <script>\n",
              "      const buttonEl =\n",
              "        document.querySelector('#df-a7cda37e-c7aa-4950-8118-21317ce4f5c4 button.colab-df-convert');\n",
              "      buttonEl.style.display =\n",
              "        google.colab.kernel.accessAllowed ? 'block' : 'none';\n",
              "\n",
              "      async function convertToInteractive(key) {\n",
              "        const element = document.querySelector('#df-a7cda37e-c7aa-4950-8118-21317ce4f5c4');\n",
              "        const dataTable =\n",
              "          await google.colab.kernel.invokeFunction('convertToInteractive',\n",
              "                                                    [key], {});\n",
              "        if (!dataTable) return;\n",
              "\n",
              "        const docLinkHtml = 'Like what you see? Visit the ' +\n",
              "          '<a target=\"_blank\" href=https://colab.research.google.com/notebooks/data_table.ipynb>data table notebook</a>'\n",
              "          + ' to learn more about interactive tables.';\n",
              "        element.innerHTML = '';\n",
              "        dataTable['output_type'] = 'display_data';\n",
              "        await google.colab.output.renderOutput(dataTable, element);\n",
              "        const docLink = document.createElement('div');\n",
              "        docLink.innerHTML = docLinkHtml;\n",
              "        element.appendChild(docLink);\n",
              "      }\n",
              "    </script>\n",
              "  </div>\n",
              "\n",
              "\n",
              "<div id=\"df-f5c1ac05-211c-467d-a061-55725a514f22\">\n",
              "  <button class=\"colab-df-quickchart\" onclick=\"quickchart('df-f5c1ac05-211c-467d-a061-55725a514f22')\"\n",
              "            title=\"Suggest charts\"\n",
              "            style=\"display:none;\">\n",
              "\n",
              "<svg xmlns=\"http://www.w3.org/2000/svg\" height=\"24px\"viewBox=\"0 0 24 24\"\n",
              "     width=\"24px\">\n",
              "    <g>\n",
              "        <path d=\"M19 3H5c-1.1 0-2 .9-2 2v14c0 1.1.9 2 2 2h14c1.1 0 2-.9 2-2V5c0-1.1-.9-2-2-2zM9 17H7v-7h2v7zm4 0h-2V7h2v10zm4 0h-2v-4h2v4z\"/>\n",
              "    </g>\n",
              "</svg>\n",
              "  </button>\n",
              "\n",
              "<style>\n",
              "  .colab-df-quickchart {\n",
              "      --bg-color: #E8F0FE;\n",
              "      --fill-color: #1967D2;\n",
              "      --hover-bg-color: #E2EBFA;\n",
              "      --hover-fill-color: #174EA6;\n",
              "      --disabled-fill-color: #AAA;\n",
              "      --disabled-bg-color: #DDD;\n",
              "  }\n",
              "\n",
              "  [theme=dark] .colab-df-quickchart {\n",
              "      --bg-color: #3B4455;\n",
              "      --fill-color: #D2E3FC;\n",
              "      --hover-bg-color: #434B5C;\n",
              "      --hover-fill-color: #FFFFFF;\n",
              "      --disabled-bg-color: #3B4455;\n",
              "      --disabled-fill-color: #666;\n",
              "  }\n",
              "\n",
              "  .colab-df-quickchart {\n",
              "    background-color: var(--bg-color);\n",
              "    border: none;\n",
              "    border-radius: 50%;\n",
              "    cursor: pointer;\n",
              "    display: none;\n",
              "    fill: var(--fill-color);\n",
              "    height: 32px;\n",
              "    padding: 0;\n",
              "    width: 32px;\n",
              "  }\n",
              "\n",
              "  .colab-df-quickchart:hover {\n",
              "    background-color: var(--hover-bg-color);\n",
              "    box-shadow: 0 1px 2px rgba(60, 64, 67, 0.3), 0 1px 3px 1px rgba(60, 64, 67, 0.15);\n",
              "    fill: var(--button-hover-fill-color);\n",
              "  }\n",
              "\n",
              "  .colab-df-quickchart-complete:disabled,\n",
              "  .colab-df-quickchart-complete:disabled:hover {\n",
              "    background-color: var(--disabled-bg-color);\n",
              "    fill: var(--disabled-fill-color);\n",
              "    box-shadow: none;\n",
              "  }\n",
              "\n",
              "  .colab-df-spinner {\n",
              "    border: 2px solid var(--fill-color);\n",
              "    border-color: transparent;\n",
              "    border-bottom-color: var(--fill-color);\n",
              "    animation:\n",
              "      spin 1s steps(1) infinite;\n",
              "  }\n",
              "\n",
              "  @keyframes spin {\n",
              "    0% {\n",
              "      border-color: transparent;\n",
              "      border-bottom-color: var(--fill-color);\n",
              "      border-left-color: var(--fill-color);\n",
              "    }\n",
              "    20% {\n",
              "      border-color: transparent;\n",
              "      border-left-color: var(--fill-color);\n",
              "      border-top-color: var(--fill-color);\n",
              "    }\n",
              "    30% {\n",
              "      border-color: transparent;\n",
              "      border-left-color: var(--fill-color);\n",
              "      border-top-color: var(--fill-color);\n",
              "      border-right-color: var(--fill-color);\n",
              "    }\n",
              "    40% {\n",
              "      border-color: transparent;\n",
              "      border-right-color: var(--fill-color);\n",
              "      border-top-color: var(--fill-color);\n",
              "    }\n",
              "    60% {\n",
              "      border-color: transparent;\n",
              "      border-right-color: var(--fill-color);\n",
              "    }\n",
              "    80% {\n",
              "      border-color: transparent;\n",
              "      border-right-color: var(--fill-color);\n",
              "      border-bottom-color: var(--fill-color);\n",
              "    }\n",
              "    90% {\n",
              "      border-color: transparent;\n",
              "      border-bottom-color: var(--fill-color);\n",
              "    }\n",
              "  }\n",
              "</style>\n",
              "\n",
              "  <script>\n",
              "    async function quickchart(key) {\n",
              "      const quickchartButtonEl =\n",
              "        document.querySelector('#' + key + ' button');\n",
              "      quickchartButtonEl.disabled = true;  // To prevent multiple clicks.\n",
              "      quickchartButtonEl.classList.add('colab-df-spinner');\n",
              "      try {\n",
              "        const charts = await google.colab.kernel.invokeFunction(\n",
              "            'suggestCharts', [key], {});\n",
              "      } catch (error) {\n",
              "        console.error('Error during call to suggestCharts:', error);\n",
              "      }\n",
              "      quickchartButtonEl.classList.remove('colab-df-spinner');\n",
              "      quickchartButtonEl.classList.add('colab-df-quickchart-complete');\n",
              "    }\n",
              "    (() => {\n",
              "      let quickchartButtonEl =\n",
              "        document.querySelector('#df-f5c1ac05-211c-467d-a061-55725a514f22 button');\n",
              "      quickchartButtonEl.style.display =\n",
              "        google.colab.kernel.accessAllowed ? 'block' : 'none';\n",
              "    })();\n",
              "  </script>\n",
              "</div>\n",
              "    </div>\n",
              "  </div>\n"
            ],
            "application/vnd.google.colaboratory.intrinsic+json": {
              "type": "dataframe",
              "variable_name": "nilai_otomatis",
              "summary": "{\n  \"name\": \"nilai_otomatis\",\n  \"rows\": 120,\n  \"fields\": [\n    {\n      \"column\": \"npm\",\n      \"properties\": {\n        \"dtype\": \"number\",\n        \"std\": 350465346,\n        \"min\": 0,\n        \"max\": 1220020029,\n        \"num_unique_values\": 10,\n        \"samples\": [\n          1121020036,\n          1121020033,\n          1120020017\n        ],\n        \"semantic_type\": \"\",\n        \"description\": \"\"\n      }\n    },\n    {\n      \"column\": \"nama_peserta\",\n      \"properties\": {\n        \"dtype\": \"category\",\n        \"num_unique_values\": 11,\n        \"samples\": [\n          \"DRP\",\n          \"Admin\",\n          \"DAR\"\n        ],\n        \"semantic_type\": \"\",\n        \"description\": \"\"\n      }\n    },\n    {\n      \"column\": \"jawaban\",\n      \"properties\": {\n        \"dtype\": \"string\",\n        \"num_unique_values\": 78,\n        \"samples\": [\n          \"dibuat grafik yang menggunakan prinsip desain visual dengan menggunakan software yang sudah disiapkan untuk menghasilkan grafik bitmap atau vector dan digital artwork. 2. teknik digital artwork 2d termasuk penggunaan dengan tepat untuk painting, editing dan pallets digunakan. 3. digital collages and montages dibuat dengan cara menyesuaikan image mode and resolusion, modifikasi gambar menggunakan filter dan memilih colour mode yang tepat untuk output.\",\n          \"Tidak, Hanya membutuhkan satu karena satu software sesuai dengan keahlian\",\n          \"dijelaskan kepada klien jika huruf terlalu besar maka kita tidak dapat memasukkan cukup banyak kata pada setiap baris agar pembaca lebih nyaman.\"\n        ],\n        \"semantic_type\": \"\",\n        \"description\": \"\"\n      }\n    },\n    {\n      \"column\": \"soal\",\n      \"properties\": {\n        \"dtype\": \"number\",\n        \"std\": 3,\n        \"min\": 1,\n        \"max\": 12,\n        \"num_unique_values\": 12,\n        \"samples\": [\n          11,\n          10,\n          1\n        ],\n        \"semantic_type\": \"\",\n        \"description\": \"\"\n      }\n    },\n    {\n      \"column\": \"skor_per_soal\",\n      \"properties\": {\n        \"dtype\": \"number\",\n        \"std\": 19.023813998449917,\n        \"min\": 26.73,\n        \"max\": 100.0,\n        \"num_unique_values\": 53,\n        \"samples\": [\n          81.06,\n          76.06,\n          78.52\n        ],\n        \"semantic_type\": \"\",\n        \"description\": \"\"\n      }\n    }\n  ]\n}"
            }
          },
          "metadata": {},
          "execution_count": 4
        }
      ]
    },
    {
      "cell_type": "code",
      "source": [
        "#memuat dataframe dari dataset dan memilih kolomnya\n",
        "df_dataset = spark.createDataFrame(nilai_otomatis)\n",
        "df_dataset = df_dataset.select(\"soal\", \"jawaban\", \"skor_per_soal\")\n",
        "#menampilkan hasil\n",
        "df_dataset.show()"
      ],
      "metadata": {
        "colab": {
          "base_uri": "https://localhost:8080/"
        },
        "id": "eyuEYGPvIvyo",
        "outputId": "f43edac9-b956-485a-9d8d-689919794c34"
      },
      "execution_count": 5,
      "outputs": [
        {
          "output_type": "stream",
          "name": "stdout",
          "text": [
            "+----+--------------------+-------------+\n",
            "|soal|             jawaban|skor_per_soal|\n",
            "+----+--------------------+-------------+\n",
            "|   1|Tidak, Hanya memb...|        100.0|\n",
            "|   2|Biaya dihitung be...|        100.0|\n",
            "|   3|Hak cipta adalah ...|        100.0|\n",
            "|   4|Dijelaskan kepada...|        100.0|\n",
            "|   5|1. Melindungi dan...|        100.0|\n",
            "|   6|Ruang Komputer, P...|        100.0|\n",
            "|   7|Aturlah posisi pe...|        100.0|\n",
            "|   8|Posisi Kepala dan...|        100.0|\n",
            "|   9|1. Kecocokan soft...|        100.0|\n",
            "|  10|1. Fokus dan expo...|        100.0|\n",
            "|  11|1. Peralatan yang...|        100.0|\n",
            "|  12|1. Dibuat grafik ...|        100.0|\n",
            "|   1|tidak, cuma mengi...|         52.7|\n",
            "|   2|biaya dihitung be...|        42.86|\n",
            "|   3|hak membuat merup...|        42.16|\n",
            "|   4|dipaparkan pada k...|        27.19|\n",
            "|   5|1. mencegah serta...|        44.14|\n",
            "|   6|ruang komputer, p...|        100.0|\n",
            "|   7|aturlah posisi fi...|        57.68|\n",
            "|   8|posisi kepala ser...|        45.71|\n",
            "+----+--------------------+-------------+\n",
            "only showing top 20 rows\n",
            "\n"
          ]
        }
      ]
    },
    {
      "cell_type": "code",
      "source": [
        "#membersihkan teks dari kolom jawaban\n",
        "#membuat pola untuk membersihkan teks\n",
        "pola_reguler = \"[^a-zA-Z\\\\s]+|\\\\d+\"\n",
        "#membersihkan kolom 'jawaban'\n",
        "membersihkan_train = df_dataset.withColumn(\"jawaban_baru\", regexp_replace(\"jawaban\", pola_reguler, \"\"))\n",
        "#menampilkan hasil\n",
        "membersihkan_train.show()"
      ],
      "metadata": {
        "colab": {
          "base_uri": "https://localhost:8080/"
        },
        "id": "Jlz5y2IdI1X8",
        "outputId": "c4773bd5-3676-49d8-b7bc-0bda9daed9af"
      },
      "execution_count": 6,
      "outputs": [
        {
          "output_type": "stream",
          "name": "stdout",
          "text": [
            "+----+--------------------+-------------+--------------------+\n",
            "|soal|             jawaban|skor_per_soal|        jawaban_baru|\n",
            "+----+--------------------+-------------+--------------------+\n",
            "|   1|Tidak, Hanya memb...|        100.0|Tidak Hanya membu...|\n",
            "|   2|Biaya dihitung be...|        100.0|Biaya dihitung be...|\n",
            "|   3|Hak cipta adalah ...|        100.0|Hak cipta adalah ...|\n",
            "|   4|Dijelaskan kepada...|        100.0|Dijelaskan kepada...|\n",
            "|   5|1. Melindungi dan...|        100.0| Melindungi dan m...|\n",
            "|   6|Ruang Komputer, P...|        100.0|Ruang Komputer Po...|\n",
            "|   7|Aturlah posisi pe...|        100.0|Aturlah posisi pe...|\n",
            "|   8|Posisi Kepala dan...|        100.0|Posisi Kepala dan...|\n",
            "|   9|1. Kecocokan soft...|        100.0| Kecocokan softwa...|\n",
            "|  10|1. Fokus dan expo...|        100.0| Fokus dan exposu...|\n",
            "|  11|1. Peralatan yang...|        100.0| Peralatan yang d...|\n",
            "|  12|1. Dibuat grafik ...|        100.0| Dibuat grafik ya...|\n",
            "|   1|tidak, cuma mengi...|         52.7|tidak cuma mengin...|\n",
            "|   2|biaya dihitung be...|        42.86|biaya dihitung be...|\n",
            "|   3|hak membuat merup...|        42.16|hak membuat merup...|\n",
            "|   4|dipaparkan pada k...|        27.19|dipaparkan pada k...|\n",
            "|   5|1. mencegah serta...|        44.14| mencegah serta m...|\n",
            "|   6|ruang komputer, p...|        100.0|ruang komputer po...|\n",
            "|   7|aturlah posisi fi...|        57.68|aturlah posisi fi...|\n",
            "|   8|posisi kepala ser...|        45.71|posisi kepala ser...|\n",
            "+----+--------------------+-------------+--------------------+\n",
            "only showing top 20 rows\n",
            "\n"
          ]
        }
      ]
    },
    {
      "cell_type": "code",
      "source": [
        "#membuat kolom jawan\n",
        "pemisah_kata_dengan_koma = Tokenizer(inputCol = \"jawaban_baru\", outputCol = \"jawaban_menggunakan_koma\")\n",
        "pemisah_kata_dengan_koma_train = pemisah_kata_dengan_koma.transform(membersihkan_train)\n",
        "#menampilkan hasil\n",
        "pemisah_kata_dengan_koma_train.show()"
      ],
      "metadata": {
        "colab": {
          "base_uri": "https://localhost:8080/"
        },
        "id": "YpMUu_TNI7b9",
        "outputId": "1cba17f4-a010-41b6-bfc6-38b9640ed87d"
      },
      "execution_count": 7,
      "outputs": [
        {
          "output_type": "stream",
          "name": "stdout",
          "text": [
            "+----+--------------------+-------------+--------------------+------------------------+\n",
            "|soal|             jawaban|skor_per_soal|        jawaban_baru|jawaban_menggunakan_koma|\n",
            "+----+--------------------+-------------+--------------------+------------------------+\n",
            "|   1|Tidak, Hanya memb...|        100.0|Tidak Hanya membu...|    [tidak, hanya, me...|\n",
            "|   2|Biaya dihitung be...|        100.0|Biaya dihitung be...|    [biaya, dihitung,...|\n",
            "|   3|Hak cipta adalah ...|        100.0|Hak cipta adalah ...|    [hak, cipta, adal...|\n",
            "|   4|Dijelaskan kepada...|        100.0|Dijelaskan kepada...|    [dijelaskan, kepa...|\n",
            "|   5|1. Melindungi dan...|        100.0| Melindungi dan m...|    [, melindungi, da...|\n",
            "|   6|Ruang Komputer, P...|        100.0|Ruang Komputer Po...|    [ruang, komputer,...|\n",
            "|   7|Aturlah posisi pe...|        100.0|Aturlah posisi pe...|    [aturlah, posisi,...|\n",
            "|   8|Posisi Kepala dan...|        100.0|Posisi Kepala dan...|    [posisi, kepala, ...|\n",
            "|   9|1. Kecocokan soft...|        100.0| Kecocokan softwa...|    [, kecocokan, sof...|\n",
            "|  10|1. Fokus dan expo...|        100.0| Fokus dan exposu...|    [, fokus, dan, ex...|\n",
            "|  11|1. Peralatan yang...|        100.0| Peralatan yang d...|    [, peralatan, yan...|\n",
            "|  12|1. Dibuat grafik ...|        100.0| Dibuat grafik ya...|    [, dibuat, grafik...|\n",
            "|   1|tidak, cuma mengi...|         52.7|tidak cuma mengin...|    [tidak, cuma, men...|\n",
            "|   2|biaya dihitung be...|        42.86|biaya dihitung be...|    [biaya, dihitung,...|\n",
            "|   3|hak membuat merup...|        42.16|hak membuat merup...|    [hak, membuat, me...|\n",
            "|   4|dipaparkan pada k...|        27.19|dipaparkan pada k...|    [dipaparkan, pada...|\n",
            "|   5|1. mencegah serta...|        44.14| mencegah serta m...|    [, mencegah, sert...|\n",
            "|   6|ruang komputer, p...|        100.0|ruang komputer po...|    [ruang, komputer,...|\n",
            "|   7|aturlah posisi fi...|        57.68|aturlah posisi fi...|    [aturlah, posisi,...|\n",
            "|   8|posisi kepala ser...|        45.71|posisi kepala ser...|    [posisi, kepala, ...|\n",
            "+----+--------------------+-------------+--------------------+------------------------+\n",
            "only showing top 20 rows\n",
            "\n"
          ]
        }
      ]
    },
    {
      "cell_type": "code",
      "source": [
        "from pyspark.ml.feature import StopWordsRemover\n",
        "from pyspark.sql import SparkSession\n",
        "\n",
        "#membuat spark session\n",
        "spark = SparkSession.builder.appName(\"StopWordsExample\").getOrCreate()\n",
        "#membaca file stop words\n",
        "with open('/content/id.stopwords.02.01.2016.txt', 'r') as f:\n",
        "    stopwords = f.read().splitlines()\n",
        "#membuat kolom yang ada kata pentingnya\n",
        "hapus_sw = StopWordsRemover(inputCol='jawaban_menggunakan_koma', outputCol='kata_penting', stopWords=stopwords)\n",
        "#menghapus stop words dari dataset\n",
        "hapus_sw_train = hapus_sw.transform(pemisah_kata_dengan_koma_train)\n",
        "#menampilkan hasil\n",
        "hapus_sw_train.show()"
      ],
      "metadata": {
        "colab": {
          "base_uri": "https://localhost:8080/"
        },
        "id": "Qs0Z6_pyI_fH",
        "outputId": "60e4b85f-6cdb-49dd-fb29-3267cdce2a18"
      },
      "execution_count": 8,
      "outputs": [
        {
          "output_type": "stream",
          "name": "stdout",
          "text": [
            "+----+--------------------+-------------+--------------------+------------------------+--------------------+\n",
            "|soal|             jawaban|skor_per_soal|        jawaban_baru|jawaban_menggunakan_koma|        kata_penting|\n",
            "+----+--------------------+-------------+--------------------+------------------------+--------------------+\n",
            "|   1|Tidak, Hanya memb...|        100.0|Tidak Hanya membu...|    [tidak, hanya, me...|[membutuhkan, sof...|\n",
            "|   2|Biaya dihitung be...|        100.0|Biaya dihitung be...|    [biaya, dihitung,...|[biaya, dihitung,...|\n",
            "|   3|Hak cipta adalah ...|        100.0|Hak cipta adalah ...|    [hak, cipta, adal...|[hak, cipta, hak,...|\n",
            "|   4|Dijelaskan kepada...|        100.0|Dijelaskan kepada...|    [dijelaskan, kepa...|[klien, huruf, me...|\n",
            "|   5|1. Melindungi dan...|        100.0| Melindungi dan m...|    [, melindungi, da...|[, melindungi, me...|\n",
            "|   6|Ruang Komputer, P...|        100.0|Ruang Komputer Po...|    [ruang, komputer,...|[ruang, komputer,...|\n",
            "|   7|Aturlah posisi pe...|        100.0|Aturlah posisi pe...|    [aturlah, posisi,...|[aturlah, posisi,...|\n",
            "|   8|Posisi Kepala dan...|        100.0|Posisi Kepala dan...|    [posisi, kepala, ...|[posisi, kepala, ...|\n",
            "|   9|1. Kecocokan soft...|        100.0| Kecocokan softwa...|    [, kecocokan, sof...|[, kecocokan, sof...|\n",
            "|  10|1. Fokus dan expo...|        100.0| Fokus dan exposu...|    [, fokus, dan, ex...|[, fokus, exposur...|\n",
            "|  11|1. Peralatan yang...|        100.0| Peralatan yang d...|    [, peralatan, yan...|[, peralatan, dib...|\n",
            "|  12|1. Dibuat grafik ...|        100.0| Dibuat grafik ya...|    [, dibuat, grafik...|[, grafik, prinsi...|\n",
            "|   1|tidak, cuma mengi...|         52.7|tidak cuma mengin...|    [tidak, cuma, men...|[aplikasi, cocok,...|\n",
            "|   2|biaya dihitung be...|        42.86|biaya dihitung be...|    [biaya, dihitung,...|[biaya, dihitung,...|\n",
            "|   3|hak membuat merup...|        42.16|hak membuat merup...|    [hak, membuat, me...|[hak, hak, khusus...|\n",
            "|   4|dipaparkan pada k...|        27.19|dipaparkan pada k...|    [dipaparkan, pada...|[dipaparkan, kons...|\n",
            "|   5|1. mencegah serta...|        44.14| mencegah serta m...|    [, mencegah, sert...|[, mencegah, menj...|\n",
            "|   6|ruang komputer, p...|        100.0|ruang komputer po...|    [ruang, komputer,...|[ruang, komputer,...|\n",
            "|   7|aturlah posisi fi...|        57.68|aturlah posisi fi...|    [aturlah, posisi,...|[aturlah, posisi,...|\n",
            "|   8|posisi kepala ser...|        45.71|posisi kepala ser...|    [posisi, kepala, ...|[posisi, kepala, ...|\n",
            "+----+--------------------+-------------+--------------------+------------------------+--------------------+\n",
            "only showing top 20 rows\n",
            "\n"
          ]
        }
      ]
    },
    {
      "cell_type": "code",
      "source": [
        "#menghitung nilai hash dari kolom kata penting\n",
        "fungsi_hash = hapus_sw_train.withColumn(\"nilai_hash\", hash(\"kata_penting\"))\n",
        "fungsi_hash.show()"
      ],
      "metadata": {
        "colab": {
          "base_uri": "https://localhost:8080/"
        },
        "id": "qkpqIejZJDg_",
        "outputId": "a7f5b54e-2b2e-4c95-88c1-93022a39c900"
      },
      "execution_count": 9,
      "outputs": [
        {
          "output_type": "stream",
          "name": "stdout",
          "text": [
            "+----+--------------------+-------------+--------------------+------------------------+--------------------+-----------+\n",
            "|soal|             jawaban|skor_per_soal|        jawaban_baru|jawaban_menggunakan_koma|        kata_penting| nilai_hash|\n",
            "+----+--------------------+-------------+--------------------+------------------------+--------------------+-----------+\n",
            "|   1|Tidak, Hanya memb...|        100.0|Tidak Hanya membu...|    [tidak, hanya, me...|[membutuhkan, sof...|-1678823266|\n",
            "|   2|Biaya dihitung be...|        100.0|Biaya dihitung be...|    [biaya, dihitung,...|[biaya, dihitung,...|  868079823|\n",
            "|   3|Hak cipta adalah ...|        100.0|Hak cipta adalah ...|    [hak, cipta, adal...|[hak, cipta, hak,...| 1708817134|\n",
            "|   4|Dijelaskan kepada...|        100.0|Dijelaskan kepada...|    [dijelaskan, kepa...|[klien, huruf, me...| 1377676868|\n",
            "|   5|1. Melindungi dan...|        100.0| Melindungi dan m...|    [, melindungi, da...|[, melindungi, me...| 1706744332|\n",
            "|   6|Ruang Komputer, P...|        100.0|Ruang Komputer Po...|    [ruang, komputer,...|[ruang, komputer,...|  829849610|\n",
            "|   7|Aturlah posisi pe...|        100.0|Aturlah posisi pe...|    [aturlah, posisi,...|[aturlah, posisi,...| 1915460745|\n",
            "|   8|Posisi Kepala dan...|        100.0|Posisi Kepala dan...|    [posisi, kepala, ...|[posisi, kepala, ...|-1861440661|\n",
            "|   9|1. Kecocokan soft...|        100.0| Kecocokan softwa...|    [, kecocokan, sof...|[, kecocokan, sof...|-2081253499|\n",
            "|  10|1. Fokus dan expo...|        100.0| Fokus dan exposu...|    [, fokus, dan, ex...|[, fokus, exposur...|-1238323704|\n",
            "|  11|1. Peralatan yang...|        100.0| Peralatan yang d...|    [, peralatan, yan...|[, peralatan, dib...| -521292198|\n",
            "|  12|1. Dibuat grafik ...|        100.0| Dibuat grafik ya...|    [, dibuat, grafik...|[, grafik, prinsi...|  481493723|\n",
            "|   1|tidak, cuma mengi...|         52.7|tidak cuma mengin...|    [tidak, cuma, men...|[aplikasi, cocok,...|   53244348|\n",
            "|   2|biaya dihitung be...|        42.86|biaya dihitung be...|    [biaya, dihitung,...|[biaya, dihitung,...|  144185811|\n",
            "|   3|hak membuat merup...|        42.16|hak membuat merup...|    [hak, membuat, me...|[hak, hak, khusus...| 1755600807|\n",
            "|   4|dipaparkan pada k...|        27.19|dipaparkan pada k...|    [dipaparkan, pada...|[dipaparkan, kons...| -247777938|\n",
            "|   5|1. mencegah serta...|        44.14| mencegah serta m...|    [, mencegah, sert...|[, mencegah, menj...| 1658505624|\n",
            "|   6|ruang komputer, p...|        100.0|ruang komputer po...|    [ruang, komputer,...|[ruang, komputer,...|  829849610|\n",
            "|   7|aturlah posisi fi...|        57.68|aturlah posisi fi...|    [aturlah, posisi,...|[aturlah, posisi,...|-1781587908|\n",
            "|   8|posisi kepala ser...|        45.71|posisi kepala ser...|    [posisi, kepala, ...|[posisi, kepala, ...|  106718928|\n",
            "+----+--------------------+-------------+--------------------+------------------------+--------------------+-----------+\n",
            "only showing top 20 rows\n",
            "\n"
          ]
        }
      ]
    },
    {
      "cell_type": "code",
      "source": [
        "#menghitung data training dan data testing\n",
        "split = fungsi_hash.randomSplit([0.7, 0.3])\n",
        "training = split[0].withColumnRenamed(\"skor_per_soal\", \"hasil_point\")\n",
        "testing = split[1].withColumnRenamed(\"skor_per_soal\", \"point_benar\")\n",
        "training_baris = training.count()\n",
        "testing_baris = testing.count()\n",
        "#menampilkan hasil\n",
        "print(\"Hasil data training dari dataset ini:\", training_baris)\n",
        "print(\"Hasil data testing dari dataset ini:\", testing_baris)"
      ],
      "metadata": {
        "colab": {
          "base_uri": "https://localhost:8080/"
        },
        "id": "N8sR2zTEJITU",
        "outputId": "b96b4326-fe87-46d0-eaf7-235e2bd47446"
      },
      "execution_count": 10,
      "outputs": [
        {
          "output_type": "stream",
          "name": "stdout",
          "text": [
            "Hasil data training dari dataset ini: 87\n",
            "Hasil data testing dari dataset ini: 33\n"
          ]
        }
      ]
    },
    {
      "cell_type": "code",
      "source": [
        "#menampilkan dari dataframe\n",
        "print(\"Dataframe di training dataset\")\n",
        "training.show()\n",
        "print(\"\\nDataframe di testing dataset\")\n",
        "testing.show()"
      ],
      "metadata": {
        "colab": {
          "base_uri": "https://localhost:8080/"
        },
        "id": "72NGZKc3JMMP",
        "outputId": "03d9b06e-6059-4c48-8ce2-989dd35df66a"
      },
      "execution_count": 11,
      "outputs": [
        {
          "output_type": "stream",
          "name": "stdout",
          "text": [
            "Dataframe di training dataset\n",
            "+----+--------------------+-----------+--------------------+------------------------+--------------------+-----------+\n",
            "|soal|             jawaban|hasil_point|        jawaban_baru|jawaban_menggunakan_koma|        kata_penting| nilai_hash|\n",
            "+----+--------------------+-----------+--------------------+------------------------+--------------------+-----------+\n",
            "|   1|Tidak, Hanya memb...|      100.0|Tidak Hanya membu...|    [tidak, hanya, me...|[membutuhkan, sof...|-1678823266|\n",
            "|   1|tidak, hanya memb...|      100.0|tidak hanya membu...|    [tidak, hanya, me...|[membutuhkan, sof...|-1678823266|\n",
            "|   1|tidak, hanya memb...|      100.0|tidak hanya membu...|    [tidak, hanya, me...|[membutuhkan, sof...|-1678823266|\n",
            "|   1|tidak, hanya memb...|      100.0|tidak hanya membu...|    [tidak, hanya, me...|[membutuhkan, sof...|-1678823266|\n",
            "|   2|Biaya dihitung be...|      100.0|Biaya dihitung be...|    [biaya, dihitung,...|[biaya, dihitung,...|  868079823|\n",
            "|   2|biaya dihitung be...|      100.0|biaya dihitung be...|    [biaya, dihitung,...|[biaya, dihitung,...|  868079823|\n",
            "|   2|biaya dihitung be...|      100.0|biaya dihitung be...|    [biaya, dihitung,...|[biaya, dihitung,...|  868079823|\n",
            "|   3|Hak cipta adalah ...|      100.0|Hak cipta adalah ...|    [hak, cipta, adal...|[hak, cipta, hak,...| 1708817134|\n",
            "|   3|hak cipta adalah ...|      91.71|hak cipta adalah ...|    [hak, cipta, adal...|[hak, cipta, hak,...| -348474399|\n",
            "|   3|hak cipta adalah ...|      91.71|hak cipta adalah ...|    [hak, cipta, adal...|[hak, cipta, hak,...| -348474399|\n",
            "|   3|hak membuat merup...|      42.16|hak membuat merup...|    [hak, membuat, me...|[hak, hak, khusus...| 1755600807|\n",
            "|   4|dijelaskan kepada...|      72.06|dijelaskan kepada...|    [dijelaskan, kepa...|[klien, huruf, me...|  636521394|\n",
            "|   4|dijelaskan kepada...|      72.06|dijelaskan kepada...|    [dijelaskan, kepa...|[klien, huruf, me...|  636521394|\n",
            "|   4|dipaparkan pada k...|      27.19|dipaparkan pada k...|    [dipaparkan, pada...|[dipaparkan, kons...| -247777938|\n",
            "|   5|1. mencegah serta...|      44.14| mencegah serta m...|    [, mencegah, sert...|[, mencegah, menj...| 1658505624|\n",
            "|   5|melindungi dan me...|      74.73|melindungi dan me...|    [melindungi, dan,...|[melindungi, menj...| 1972997189|\n",
            "|   5|melindungi dan me...|      74.73|melindungi dan me...|    [melindungi, dan,...|[melindungi, menj...| 1972997189|\n",
            "|   5|melindungi dan me...|      90.27|melindungi dan me...|    [melindungi, dan,...|[melindungi, menj...|-1211017882|\n",
            "|   6|ruang komputer, p...|      100.0|ruang komputer po...|    [ruang, komputer,...|[ruang, komputer,...|  829849610|\n",
            "|   6|ruang komputer, p...|      100.0|ruang komputer po...|    [ruang, komputer,...|[ruang, komputer,...|  829849610|\n",
            "+----+--------------------+-----------+--------------------+------------------------+--------------------+-----------+\n",
            "only showing top 20 rows\n",
            "\n",
            "\n",
            "Dataframe di testing dataset\n",
            "+----+--------------------+-----------+--------------------+------------------------+--------------------+-----------+\n",
            "|soal|             jawaban|point_benar|        jawaban_baru|jawaban_menggunakan_koma|        kata_penting| nilai_hash|\n",
            "+----+--------------------+-----------+--------------------+------------------------+--------------------+-----------+\n",
            "|   1|tidak, cuma mengi...|       52.7|tidak cuma mengin...|    [tidak, cuma, men...|[aplikasi, cocok,...|   53244348|\n",
            "|   2|biaya dihitung be...|      100.0|biaya dihitung be...|    [biaya, dihitung,...|[biaya, dihitung,...|  868079823|\n",
            "|   2|biaya dihitung be...|      42.86|biaya dihitung be...|    [biaya, dihitung,...|[biaya, dihitung,...|  144185811|\n",
            "|   3|hak cipta adalah ...|      91.71|hak cipta adalah ...|    [hak, cipta, adal...|[hak, cipta, hak,...| -348474399|\n",
            "|   4|Dijelaskan kepada...|      100.0|Dijelaskan kepada...|    [dijelaskan, kepa...|[klien, huruf, me...| 1377676868|\n",
            "|   4|dijelaskan kepada...|      72.06|dijelaskan kepada...|    [dijelaskan, kepa...|[klien, huruf, me...|  636521394|\n",
            "|   5|1. Melindungi dan...|      100.0| Melindungi dan m...|    [, melindungi, da...|[, melindungi, me...| 1706744332|\n",
            "|   6|Ruang Komputer, P...|      100.0|Ruang Komputer Po...|    [ruang, komputer,...|[ruang, komputer,...|  829849610|\n",
            "|   7|aturlah posisi pe...|      86.22|aturlah posisi pe...|    [aturlah, posisi,...|[aturlah, posisi,...|-1894676254|\n",
            "|   7|ruang komputer, p...|      86.22|ruang komputer po...|    [ruang, komputer,...|[ruang, komputer,...|  829849610|\n",
            "|   8|posisi kepala dan...|      100.0|posisi kepala dan...|    [posisi, kepala, ...|[posisi, kepala, ...|-1861440661|\n",
            "|   8|posisi kepala ser...|      45.71|posisi kepala ser...|    [posisi, kepala, ...|[posisi, kepala, ...|  106718928|\n",
            "|   9|kecocokan softwar...|      65.89|kecocokan softwar...|    [kecocokan, softw...|[kecocokan, softw...| 1900032256|\n",
            "|  10|1. Fokus dan expo...|      100.0| Fokus dan exposu...|    [, fokus, dan, ex...|[, fokus, exposur...|-1238323704|\n",
            "|  10|fokus dan exposur...|      94.51|fokus dan exposur...|    [fokus, dan, expo...|[fokus, exposure,...|-1836299422|\n",
            "|  11|1. Peralatan yang...|      100.0| Peralatan yang d...|    [, peralatan, yan...|[, peralatan, dib...| -521292198|\n",
            "|  11|1. perlengkapan y...|      41.99| perlengkapan yan...|    [, perlengkapan, ...|[, perlengkapan, ...| -871483067|\n",
            "|  11|peralatan yang di...|      100.0|peralatan yang di...|    [peralatan, yang,...|[peralatan, dibut...| -383074426|\n",
            "|  12|dibuat grafik yan...|      81.06|dibuat grafik yan...|    [dibuat, grafik, ...|[grafik, prinsip,...|  703135559|\n",
            "|   2|biaya dihitung be...|      84.52|biaya dihitung be...|    [biaya, dihitung,...|[biaya, dihitung,...| 1814852026|\n",
            "+----+--------------------+-----------+--------------------+------------------------+--------------------+-----------+\n",
            "only showing top 20 rows\n",
            "\n"
          ]
        }
      ]
    },
    {
      "cell_type": "code",
      "source": [
        "from pyspark.ml.recommendation import ALS\n",
        "\n",
        "#menghitung als dan prediksi dari dataset ini\n",
        "#menginisialisasi model ALS\n",
        "hitung_als = ALS(maxIter=5, regParam=0.01, userCol=\"nilai_hash\", itemCol=\"soal\", ratingCol=\"hasil_point\")\n",
        "#melatih modelnya\n",
        "model_als = hitung_als.fit(training)\n",
        "#melakukan prediksinya\n",
        "prediksi = model_als.transform(testing)\n",
        "#menampilkan prediksinya\n",
        "prediksi.select(\"soal\", \"nilai_hash\", \"point_benar\", \"prediction\").show()"
      ],
      "metadata": {
        "colab": {
          "base_uri": "https://localhost:8080/"
        },
        "id": "J9IlMIvXJR-z",
        "outputId": "13a5c735-324b-4d58-957f-cc42926e6f98"
      },
      "execution_count": 12,
      "outputs": [
        {
          "output_type": "stream",
          "name": "stdout",
          "text": [
            "+----+-----------+-----------+----------+\n",
            "|soal| nilai_hash|point_benar|prediction|\n",
            "+----+-----------+-----------+----------+\n",
            "|  12|-1557371155|      64.29|  64.28998|\n",
            "|  12|  703135559|      81.06|       NaN|\n",
            "|   1|   53244348|       52.7|       NaN|\n",
            "|   6|  829849610|      100.0|  99.99994|\n",
            "|   3| -348474399|      91.71|  91.70995|\n",
            "|   3| -294850405|      83.43|  83.42996|\n",
            "|   3|  638329998|      76.06|       NaN|\n",
            "|   4|  636521394|      72.06|  72.40594|\n",
            "|   8|-1927812291|      89.17|  89.16996|\n",
            "|   8|-1861440661|      100.0|  99.99996|\n",
            "|   8|  106718928|      45.71|       NaN|\n",
            "|   7|-1894676254|      86.22|  86.21995|\n",
            "|   7|-1894676254|      86.22|  86.21995|\n",
            "|   7|-1894676254|      86.22|  86.21995|\n",
            "|   7|  829849610|      86.22|-22.447596|\n",
            "|  10|-1836299422|      94.51|       NaN|\n",
            "|  10|-1238323704|      100.0|       NaN|\n",
            "|  11| -871483067|      41.99|       NaN|\n",
            "|  11| -521292198|      100.0|       NaN|\n",
            "|  11| -383074426|      100.0|       NaN|\n",
            "+----+-----------+-----------+----------+\n",
            "only showing top 20 rows\n",
            "\n"
          ]
        }
      ]
    },
    {
      "cell_type": "code",
      "source": [
        "#menghitung hasil MSE sebelum prediksi bersih\n",
        "evaluasi_mse = RegressionEvaluator(metricName = \"mse\", labelCol = \"point_benar\", predictionCol = \"prediction\")\n",
        "hasil_mse = evaluasi_mse.evaluate(prediksi)\n",
        "#menghitung hasil root MSE sebelum prediksi bersih\n",
        "evaluasi_rmse = RegressionEvaluator(metricName = \"rmse\", labelCol = \"point_benar\", predictionCol = \"prediction\")\n",
        "hasil_rmse = evaluasi_rmse.evaluate(prediksi)\n",
        "#menampilkan hasilnya\n",
        "print(\"Hasil dari mean square error (MSE):\", hasil_mse)\n",
        "print(\"Hasil dari root mean square error (RMSE):\", hasil_rmse)"
      ],
      "metadata": {
        "colab": {
          "base_uri": "https://localhost:8080/"
        },
        "id": "66MgqZ6bJWb7",
        "outputId": "0ee59fe4-d8c8-4eea-827b-0050929722b4"
      },
      "execution_count": 13,
      "outputs": [
        {
          "output_type": "stream",
          "name": "stdout",
          "text": [
            "Hasil dari mean square error (MSE): nan\n",
            "Hasil dari root mean square error (RMSE): nan\n"
          ]
        }
      ]
    },
    {
      "cell_type": "code",
      "source": [
        "#menghitung missing value\n",
        "prediksi.count()\n",
        "y = prediksi.count()\n",
        "prediksi_bersih = prediksi.dropna(how = \"any\", subset = [\"prediction\"])\n",
        "z = prediksi_bersih.count()\n",
        "jumlah = y-z\n",
        "#menampilkan hasil\n",
        "# Menampilkan hasil\n",
        "print(\"Jumlah missing value sebelum dihapus: {} baris\".format(y))\n",
        "print(\"Jumlah missing value sesudah dihapus: {} baris\".format(z))\n",
        "print(\"Total missing value: {} baris\".format(jumlah))"
      ],
      "metadata": {
        "colab": {
          "base_uri": "https://localhost:8080/"
        },
        "id": "Tn-Khtm-JnD7",
        "outputId": "7b0c6692-0203-43c4-9f37-8f8e287c53eb"
      },
      "execution_count": 14,
      "outputs": [
        {
          "output_type": "stream",
          "name": "stdout",
          "text": [
            "Jumlah missing value sebelum dihapus: 33 baris\n",
            "Jumlah missing value sesudah dihapus: 18 baris\n",
            "Total missing value: 15 baris\n"
          ]
        }
      ]
    },
    {
      "cell_type": "code",
      "source": [
        "#menghitung hasil MSE setelah prediksi bersih\n",
        "hasil_mse = evaluasi_mse.evaluate(prediksi_bersih)\n",
        "#menghitung hasil root MSE setelah prediksi bersih\n",
        "hasil_rmse = evaluasi_rmse.evaluate(prediksi_bersih)\n",
        "#menampilkan hasilnya\n",
        "print(\"Hasil dari mean square error (MSE):\", hasil_mse)\n",
        "print(\"Hasil dari root mean square error (RMSE):\", hasil_rmse)"
      ],
      "metadata": {
        "colab": {
          "base_uri": "https://localhost:8080/"
        },
        "id": "GecfS4W4JtM9",
        "outputId": "4963da40-152b-4fa6-fc3c-38a996ff04c0"
      },
      "execution_count": 15,
      "outputs": [
        {
          "output_type": "stream",
          "name": "stdout",
          "text": [
            "Hasil dari mean square error (MSE): 656.0425558477425\n",
            "Hasil dari root mean square error (RMSE): 25.613327699612608\n"
          ]
        }
      ]
    },
    {
      "cell_type": "code",
      "source": [],
      "metadata": {
        "id": "GSL36K8MJ30j"
      },
      "execution_count": null,
      "outputs": []
    }
  ]
}